{
 "cells": [
  {
   "cell_type": "markdown",
   "metadata": {
    "collapsed": true,
    "pycharm": {
     "name": "#%% md\n"
    }
   },
   "source": [
    "# Домашнее задание №7: ДЗ7-бонусное\n"
   ]
  },
  {
   "cell_type": "markdown",
   "metadata": {
    "pycharm": {
     "name": "#%% md\n"
    }
   },
   "source": [
    "### Зафиксируйте какую-либо многомерную скалярную функцию и реализуйте для неё анализ чувствительности по методу Соболя на Python с использованием библиотеки SALib."
   ]
  },
  {
   "cell_type": "code",
   "execution_count": 1,
   "metadata": {
    "pycharm": {
     "name": "#%%\n"
    }
   },
   "outputs": [],
   "source": [
    "import time\n",
    "import numpy as np\n",
    "from numba import njit, prange\n",
    "from SALib.sample import saltelli\n",
    "from SALib.analyze import sobol"
   ]
  },
  {
   "cell_type": "markdown",
   "metadata": {
    "pycharm": {
     "name": "#%% md\n"
    }
   },
   "source": [
    "### Проведите анализ чувствительности, проверьте сходимость, измерьте тайминги, 25 баллов "
   ]
  },
  {
   "cell_type": "code",
   "execution_count": 2,
   "metadata": {
    "pycharm": {
     "name": "#%%\n"
    }
   },
   "outputs": [],
   "source": [
    "a = 0.5\n",
    "b = 0.8"
   ]
  },
  {
   "cell_type": "code",
   "execution_count": 3,
   "metadata": {
    "pycharm": {
     "name": "#%%\n"
    }
   },
   "outputs": [],
   "source": [
    "def evaluate_model(x):\n",
    "    return np.cos(x[0]) + a * np.sin(x[2]) * np.cos(x[2]) + b * x[0]**3 * np.cos(x[1])**3"
   ]
  },
  {
   "cell_type": "code",
   "execution_count": 4,
   "metadata": {
    "pycharm": {
     "name": "#%%\n"
    }
   },
   "outputs": [],
   "source": [
    "problem = {\n",
    "    'num_vars' : 3,\n",
    "    'names' : ['x1', 'x2', 'x3'],\n",
    "    'bounds' : [[-3, 3],\n",
    "                [-3, 3],\n",
    "                [-3, 3]\n",
    "                ]\n",
    "}"
   ]
  },
  {
   "cell_type": "code",
   "execution_count": 5,
   "metadata": {
    "pycharm": {
     "name": "#%%\n"
    }
   },
   "outputs": [
    {
     "name": "stderr",
     "output_type": "stream",
     "text": [
      "/var/folders/b7/t1bwy2bj38s0vjf_n9kzhzjw0000gq/T/ipykernel_76364/2900001500.py:3: DeprecationWarning: `salib.sample.saltelli` will be removed in SALib 1.5. Please use `salib.sample.sobol`\n",
      "  param_values = saltelli.sample(problem, n)\n",
      "/opt/homebrew/Caskroom/miniforge/base/envs/env/lib/python3.8/site-packages/SALib/sample/saltelli.py:109: UserWarning: \n",
      "        Convergence properties of the Sobol' sequence is only valid if\n",
      "        `N` (100000) is equal to `2^n`.\n",
      "        \n",
      "  warnings.warn(msg)\n"
     ]
    },
    {
     "name": "stdout",
     "output_type": "stream",
     "text": [
      "samples generation took 3.2918219566345215 seconds\n",
      "model evaluation took 3.3362138271331787 seconds\n",
      "SA took 4.213747024536133 seconds\n",
      "[0.03219263 0.00018097 0.0017024 ]\n",
      "[0.99873225 0.96579416 0.00169775]\n",
      "x1-x2: 0.9656643718339771\n",
      "x1-x3: 0.00041588620423737167\n",
      "x2-x3: -0.0004194848737831959\n"
     ]
    }
   ],
   "source": [
    "n = 100000\n",
    "start = time.time()\n",
    "param_values = saltelli.sample(problem, n)\n",
    "print(\"samples generation took %s seconds\" %(time.time() - start))\n",
    "Y = np.zeros([param_values.shape[0]])\n",
    "\n",
    "start = time.time()\n",
    "for i, X in enumerate(param_values):\n",
    "    Y[i] = evaluate_model(X)\n",
    "\n",
    "print(\"model evaluation took %s seconds\" %(time.time() - start))\n",
    "\n",
    "start = time.time()\n",
    "Si = sobol.analyze(problem, Y)\n",
    "\n",
    "print(\"SA took %s seconds\" %(time.time() - start))\n",
    "# first-order indices\n",
    "print(Si['S1'])\n",
    "# total indices for each variable\n",
    "print(Si['ST'])\n",
    "# second order indices\n",
    "print(\"x1-x2:\", Si['S2'][0,1])\n",
    "print(\"x1-x3:\", Si['S2'][0,2])\n",
    "print(\"x2-x3:\", Si['S2'][1,2])"
   ]
  },
  {
   "cell_type": "markdown",
   "metadata": {
    "pycharm": {
     "name": "#%% md\n"
    }
   },
   "source": [
    "### Ускорьте вычисления Python с использованием любой из имеющихся возможностей (PyBind11, ctypes, cython, numba), 25 баллов"
   ]
  },
  {
   "cell_type": "code",
   "execution_count": 6,
   "metadata": {
    "pycharm": {
     "name": "#%%\n"
    }
   },
   "outputs": [],
   "source": [
    "@njit\n",
    "def opt_evaluate_model(x):\n",
    "    return np.cos(x[0]) + a * np.sin(x[2]) * np.cos(x[2]) + np.sin(x[1])**2 + b * x[0]**3 * np.cos(x[1])**3"
   ]
  },
  {
   "cell_type": "code",
   "execution_count": 7,
   "metadata": {
    "pycharm": {
     "name": "#%%\n"
    }
   },
   "outputs": [
    {
     "name": "stderr",
     "output_type": "stream",
     "text": [
      "/var/folders/b7/t1bwy2bj38s0vjf_n9kzhzjw0000gq/T/ipykernel_76364/1940001659.py:3: DeprecationWarning: `salib.sample.saltelli` will be removed in SALib 1.5. Please use `salib.sample.sobol`\n",
      "  param_values = saltelli.sample(problem, n)\n"
     ]
    },
    {
     "name": "stdout",
     "output_type": "stream",
     "text": [
      "samples generation took 3.292879104614258 seconds\n",
      "model evaluation took 0.5063209533691406 seconds\n",
      "SA took 4.137076139450073 seconds\n"
     ]
    }
   ],
   "source": [
    "n = 100000\n",
    "start = time.time()\n",
    "param_values = saltelli.sample(problem, n)\n",
    "print(\"samples generation took %s seconds\" %(time.time() - start))\n",
    "Y = np.zeros([param_values.shape[0]])\n",
    "\n",
    "start = time.time()\n",
    "for i, X in enumerate(param_values):\n",
    "    Y[i] = opt_evaluate_model(X)\n",
    "\n",
    "print(\"model evaluation took %s seconds\" %(time.time() - start))\n",
    "\n",
    "start = time.time()\n",
    "Si = sobol.analyze(problem, Y)\n",
    "\n",
    "print(\"SA took %s seconds\" %(time.time() - start))"
   ]
  },
  {
   "cell_type": "markdown",
   "metadata": {
    "pycharm": {
     "name": "#%% md\n"
    }
   },
   "source": [
    "### Попробуйте добавить параллелизм в вычисления, 25 баллов  "
   ]
  },
  {
   "cell_type": "code",
   "execution_count": 8,
   "metadata": {
    "pycharm": {
     "name": "#%%\n"
    }
   },
   "outputs": [
    {
     "name": "stderr",
     "output_type": "stream",
     "text": [
      "/var/folders/b7/t1bwy2bj38s0vjf_n9kzhzjw0000gq/T/ipykernel_76364/3006892186.py:3: DeprecationWarning: `salib.sample.saltelli` will be removed in SALib 1.5. Please use `salib.sample.sobol`\n",
      "  param_values = saltelli.sample(problem, n)\n",
      "/opt/homebrew/Caskroom/miniforge/base/envs/env/lib/python3.8/site-packages/SALib/sample/saltelli.py:109: UserWarning: \n",
      "        Convergence properties of the Sobol' sequence is only valid if\n",
      "        `N` (100000) is equal to `2^n`.\n",
      "        \n",
      "  warnings.warn(msg)\n"
     ]
    },
    {
     "name": "stdout",
     "output_type": "stream",
     "text": [
      "samples generation took 3.316559076309204 seconds\n",
      "model evaluation took 0.03644299507141113 seconds\n",
      "SA took 4.184094190597534 seconds\n"
     ]
    }
   ],
   "source": [
    "n = 100000\n",
    "start = time.time()\n",
    "param_values = saltelli.sample(problem, n)\n",
    "print(\"samples generation took %s seconds\" %(time.time() - start))\n",
    "Y = np.zeros([param_values.shape[0]])\n",
    "\n",
    "start = time.time()\n",
    "for i in prange(n):\n",
    "    Y[i] = opt_evaluate_model(param_values[i])\n",
    "\n",
    "print(\"model evaluation took %s seconds\" %(time.time() - start))\n",
    "\n",
    "start = time.time()\n",
    "Si = sobol.analyze(problem, Y)\n",
    "\n",
    "print(\"SA took %s seconds\" %(time.time() - start))"
   ]
  }
 ],
 "metadata": {
  "kernelspec": {
   "display_name": "Python 3 (ipykernel)",
   "language": "python",
   "name": "python3"
  },
  "language_info": {
   "codemirror_mode": {
    "name": "ipython",
    "version": 3
   },
   "file_extension": ".py",
   "mimetype": "text/x-python",
   "name": "python",
   "nbconvert_exporter": "python",
   "pygments_lexer": "ipython3",
   "version": "3.8.13"
  }
 },
 "nbformat": 4,
 "nbformat_minor": 1
}
